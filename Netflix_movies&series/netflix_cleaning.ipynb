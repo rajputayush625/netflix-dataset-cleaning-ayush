{
 "cells": [
  {
   "cell_type": "code",
   "execution_count": 5,
   "id": "45375295-a4cf-47de-8f5d-831603ff9fd8",
   "metadata": {},
   "outputs": [],
   "source": [
    "import pandas as pd\n",
    "\n",
    "# Load the dataset\n",
    "df = pd.read_csv(\"C:/Users/rajpu/OneDrive/Documents/PROJECTS/Netflix_movies&series/netflix_titles.csv\")\n",
    "\n",
    "# Remove duplicates\n",
    "df = df.drop_duplicates()\n",
    "\n",
    "# Rename columns to lowercase with underscores\n",
    "df.columns = df.columns.str.strip().str.lower().str.replace(' ', '_')\n",
    "\n",
    "# Convert 'date_added' to datetime format (dd-mm-yyyy)\n",
    "df['date_added'] = pd.to_datetime(df['date_added'], errors='coerce')\n",
    "df['date_added'] = df['date_added'].dt.strftime('%d-%m-%Y')\n",
    "\n",
    "# Fill missing values\n",
    "df['director'] = df['director'].fillna('Not Available')\n",
    "df['cast'] = df['cast'].fillna('Not Available')\n",
    "df['country'] = df['country'].fillna('Unknown')\n",
    "df['rating'] = df['rating'].fillna('Not Rated')\n",
    "\n",
    "# Drop rows where 'date_added' or 'duration' is still null\n",
    "df = df.dropna(subset=['date_added', 'duration'])\n",
    "\n",
    "# Standardize text fields by stripping whitespace\n",
    "text_columns = ['type', 'title', 'director', 'cast', 'country', 'rating', 'listed_in', 'description']\n",
    "for col in text_columns:\n",
    "    df[col] = df[col].str.strip()\n",
    "\n",
    "# Save the cleaned dataset\n",
    "df.to_csv(\"netflix_titles_cleaned.csv\", index=False)\n"
   ]
  },
  {
   "cell_type": "code",
   "execution_count": null,
   "id": "78ccc8bd-376a-4686-ab90-aee62e260d5d",
   "metadata": {},
   "outputs": [],
   "source": []
  }
 ],
 "metadata": {
  "kernelspec": {
   "display_name": "Python 3 (ipykernel)",
   "language": "python",
   "name": "python3"
  },
  "language_info": {
   "codemirror_mode": {
    "name": "ipython",
    "version": 3
   },
   "file_extension": ".py",
   "mimetype": "text/x-python",
   "name": "python",
   "nbconvert_exporter": "python",
   "pygments_lexer": "ipython3",
   "version": "3.12.4"
  }
 },
 "nbformat": 4,
 "nbformat_minor": 5
}
